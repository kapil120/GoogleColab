{
  "nbformat": 4,
  "nbformat_minor": 0,
  "metadata": {
    "colab": {
      "name": "Welcome To Colaboratory",
      "provenance": [],
      "collapsed_sections": [],
      "include_colab_link": true
    },
    "kernelspec": {
      "display_name": "Python 3",
      "name": "python3"
    }
  },
  "cells": [
    {
      "cell_type": "markdown",
      "metadata": {
        "id": "view-in-github",
        "colab_type": "text"
      },
      "source": [
        "<a href=\"https://colab.research.google.com/github/kapil120/GoogleColab/blob/master/Numpy.ipynb\" target=\"_parent\"><img src=\"https://colab.research.google.com/assets/colab-badge.svg\" alt=\"Open In Colab\"/></a>"
      ]
    },
    {
      "cell_type": "markdown",
      "metadata": {
        "id": "i4BlZ3XH6j6M",
        "colab_type": "text"
      },
      "source": [
        "### Packages\n"
      ]
    },
    {
      "cell_type": "code",
      "metadata": {
        "id": "6IUtOpZJ6qLB",
        "colab_type": "code",
        "colab": {}
      },
      "source": [
        "import math"
      ],
      "execution_count": 0,
      "outputs": []
    },
    {
      "cell_type": "code",
      "metadata": {
        "id": "EyYEcZNB63HM",
        "colab_type": "code",
        "colab": {
          "base_uri": "https://localhost:8080/",
          "height": 34
        },
        "outputId": "1823984b-1839-4494-b58c-e837c4a047e9"
      },
      "source": [
        "a=math.sqrt(100)\n",
        "print(a)"
      ],
      "execution_count": 10,
      "outputs": [
        {
          "output_type": "stream",
          "text": [
            "10.0\n"
          ],
          "name": "stdout"
        }
      ]
    },
    {
      "cell_type": "markdown",
      "metadata": {
        "id": "Afusy8EJDCZ7",
        "colab_type": "text"
      },
      "source": [
        "# **Numpy**# "
      ]
    },
    {
      "cell_type": "code",
      "metadata": {
        "id": "kskQ5XV9DJdN",
        "colab_type": "code",
        "colab": {}
      },
      "source": [
        "import numpy as np"
      ],
      "execution_count": 0,
      "outputs": []
    },
    {
      "cell_type": "code",
      "metadata": {
        "id": "YWx2pMYbDaId",
        "colab_type": "code",
        "colab": {
          "base_uri": "https://localhost:8080/",
          "height": 34
        },
        "outputId": "f6cb9388-5272-4a34-bcaf-26afec68dfc1"
      },
      "source": [
        "x=np.array([1,2,3])\n",
        "print(x)"
      ],
      "execution_count": 13,
      "outputs": [
        {
          "output_type": "stream",
          "text": [
            "[1 2 3]\n"
          ],
          "name": "stdout"
        }
      ]
    },
    {
      "cell_type": "code",
      "metadata": {
        "id": "JhZLlnsvDn1X",
        "colab_type": "code",
        "colab": {
          "base_uri": "https://localhost:8080/",
          "height": 34
        },
        "outputId": "30aa0f8e-588c-42c0-b32f-3b2d06dd3381"
      },
      "source": [
        "type(x)"
      ],
      "execution_count": 14,
      "outputs": [
        {
          "output_type": "execute_result",
          "data": {
            "text/plain": [
              "numpy.ndarray"
            ]
          },
          "metadata": {
            "tags": []
          },
          "execution_count": 14
        }
      ]
    },
    {
      "cell_type": "code",
      "metadata": {
        "id": "DOohJ_DpDq5-",
        "colab_type": "code",
        "colab": {
          "base_uri": "https://localhost:8080/",
          "height": 34
        },
        "outputId": "9a1fc759-9c9f-465d-edca-4c203f532dfb"
      },
      "source": [
        "l=[1,4,9,16]\n",
        "x=np.asarray(l)\n",
        "type(x)"
      ],
      "execution_count": 15,
      "outputs": [
        {
          "output_type": "execute_result",
          "data": {
            "text/plain": [
              "numpy.ndarray"
            ]
          },
          "metadata": {
            "tags": []
          },
          "execution_count": 15
        }
      ]
    },
    {
      "cell_type": "code",
      "metadata": {
        "id": "2RW5nP9zD9R9",
        "colab_type": "code",
        "colab": {
          "base_uri": "https://localhost:8080/",
          "height": 34
        },
        "outputId": "cc8af1f1-da89-4ffa-818a-f3b09661af48"
      },
      "source": [
        "print(x)"
      ],
      "execution_count": 16,
      "outputs": [
        {
          "output_type": "stream",
          "text": [
            "[ 1  4  9 16]\n"
          ],
          "name": "stdout"
        }
      ]
    },
    {
      "cell_type": "code",
      "metadata": {
        "id": "dQ5YAoXDD_-g",
        "colab_type": "code",
        "colab": {
          "base_uri": "https://localhost:8080/",
          "height": 34
        },
        "outputId": "5905d4fe-3d35-40ac-9100-d04a14007362"
      },
      "source": [
        "x=np.asarray(l,float)\n",
        "print(x)"
      ],
      "execution_count": 18,
      "outputs": [
        {
          "output_type": "stream",
          "text": [
            "[ 1.  4.  9. 16.]\n"
          ],
          "name": "stdout"
        }
      ]
    },
    {
      "cell_type": "code",
      "metadata": {
        "id": "nCt9bFKtE2GO",
        "colab_type": "code",
        "colab": {
          "base_uri": "https://localhost:8080/",
          "height": 34
        },
        "outputId": "72abf212-088b-4864-8f4f-c97d16e282cc"
      },
      "source": [
        "x.shape"
      ],
      "execution_count": 19,
      "outputs": [
        {
          "output_type": "execute_result",
          "data": {
            "text/plain": [
              "(4,)"
            ]
          },
          "metadata": {
            "tags": []
          },
          "execution_count": 19
        }
      ]
    },
    {
      "cell_type": "code",
      "metadata": {
        "id": "AmeHXfb4E-tb",
        "colab_type": "code",
        "colab": {}
      },
      "source": [
        "np.array?"
      ],
      "execution_count": 0,
      "outputs": []
    },
    {
      "cell_type": "code",
      "metadata": {
        "id": "ycdWFV1aFHna",
        "colab_type": "code",
        "colab": {
          "base_uri": "https://localhost:8080/",
          "height": 51
        },
        "outputId": "2655fe8c-2ad5-46d8-e0ef-5cc8ecdb9187"
      },
      "source": [
        "x=np.array([[1,2,3],[4,5,6]])\n",
        "print(x)"
      ],
      "execution_count": 21,
      "outputs": [
        {
          "output_type": "stream",
          "text": [
            "[[1 2 3]\n",
            " [4 5 6]]\n"
          ],
          "name": "stdout"
        }
      ]
    },
    {
      "cell_type": "code",
      "metadata": {
        "id": "5PPgDh4aGuD9",
        "colab_type": "code",
        "colab": {
          "base_uri": "https://localhost:8080/",
          "height": 34
        },
        "outputId": "03a1be0a-2955-4328-a6da-fe4b65b8e25b"
      },
      "source": [
        "x.shape"
      ],
      "execution_count": 22,
      "outputs": [
        {
          "output_type": "execute_result",
          "data": {
            "text/plain": [
              "(2, 3)"
            ]
          },
          "metadata": {
            "tags": []
          },
          "execution_count": 22
        }
      ]
    },
    {
      "cell_type": "code",
      "metadata": {
        "id": "t34-e_NYHGll",
        "colab_type": "code",
        "colab": {
          "base_uri": "https://localhost:8080/",
          "height": 34
        },
        "outputId": "fab769f6-afa1-4bff-93ab-17396fcb786d"
      },
      "source": [
        "x[1,2]"
      ],
      "execution_count": 24,
      "outputs": [
        {
          "output_type": "execute_result",
          "data": {
            "text/plain": [
              "6"
            ]
          },
          "metadata": {
            "tags": []
          },
          "execution_count": 24
        }
      ]
    },
    {
      "cell_type": "code",
      "metadata": {
        "id": "D7I1r_KfHQ5Q",
        "colab_type": "code",
        "colab": {
          "base_uri": "https://localhost:8080/",
          "height": 34
        },
        "outputId": "e24ef6b2-abe6-4878-d35b-cd2930448982"
      },
      "source": [
        "x[0,1:3]"
      ],
      "execution_count": 27,
      "outputs": [
        {
          "output_type": "execute_result",
          "data": {
            "text/plain": [
              "array([2, 3])"
            ]
          },
          "metadata": {
            "tags": []
          },
          "execution_count": 27
        }
      ]
    },
    {
      "cell_type": "code",
      "metadata": {
        "id": "MpKbZGI7SQeG",
        "colab_type": "code",
        "colab": {
          "base_uri": "https://localhost:8080/",
          "height": 85
        },
        "outputId": "413a7338-df88-46c2-d0b6-20dfbbe0fe8e"
      },
      "source": [
        "x=np.zeros((4,5))\n",
        "print(x)\n"
      ],
      "execution_count": 28,
      "outputs": [
        {
          "output_type": "stream",
          "text": [
            "[[0. 0. 0. 0. 0.]\n",
            " [0. 0. 0. 0. 0.]\n",
            " [0. 0. 0. 0. 0.]\n",
            " [0. 0. 0. 0. 0.]]\n"
          ],
          "name": "stdout"
        }
      ]
    },
    {
      "cell_type": "code",
      "metadata": {
        "id": "V2GVwgX9SovW",
        "colab_type": "code",
        "colab": {
          "base_uri": "https://localhost:8080/",
          "height": 85
        },
        "outputId": "0e4b4105-35c5-443c-974d-d4293caa7ecf"
      },
      "source": [
        "x=np.eye(4,4)\n",
        "print(x)"
      ],
      "execution_count": 29,
      "outputs": [
        {
          "output_type": "stream",
          "text": [
            "[[1. 0. 0. 0.]\n",
            " [0. 1. 0. 0.]\n",
            " [0. 0. 1. 0.]\n",
            " [0. 0. 0. 1.]]\n"
          ],
          "name": "stdout"
        }
      ]
    },
    {
      "cell_type": "code",
      "metadata": {
        "id": "mhTK2ZVVS60z",
        "colab_type": "code",
        "colab": {
          "base_uri": "https://localhost:8080/",
          "height": 85
        },
        "outputId": "b2c5327f-ecf6-4038-d0c5-3ee30c6a5d24"
      },
      "source": [
        "x=np.random.random((4,5))\n",
        "print(x)"
      ],
      "execution_count": 30,
      "outputs": [
        {
          "output_type": "stream",
          "text": [
            "[[0.5673002  0.88033618 0.56580192 0.65737114 0.22741317]\n",
            " [0.78165189 0.51891697 0.71974108 0.01304877 0.93647854]\n",
            " [0.64330095 0.84580654 0.97431145 0.10885092 0.66893755]\n",
            " [0.59204696 0.16590474 0.57452359 0.33022795 0.23253637]]\n"
          ],
          "name": "stdout"
        }
      ]
    },
    {
      "cell_type": "code",
      "metadata": {
        "id": "Nbf4L7ZnVJQC",
        "colab_type": "code",
        "colab": {
          "base_uri": "https://localhost:8080/",
          "height": 102
        },
        "outputId": "396115de-8230-4f58-94ea-5c7b82e4f8e8"
      },
      "source": [
        "z=x.T\n",
        "print(z)"
      ],
      "execution_count": 31,
      "outputs": [
        {
          "output_type": "stream",
          "text": [
            "[[0.5673002  0.78165189 0.64330095 0.59204696]\n",
            " [0.88033618 0.51891697 0.84580654 0.16590474]\n",
            " [0.56580192 0.71974108 0.97431145 0.57452359]\n",
            " [0.65737114 0.01304877 0.10885092 0.33022795]\n",
            " [0.22741317 0.93647854 0.66893755 0.23253637]]\n"
          ],
          "name": "stdout"
        }
      ]
    },
    {
      "cell_type": "code",
      "metadata": {
        "id": "im3wO9b6VP2F",
        "colab_type": "code",
        "colab": {
          "base_uri": "https://localhost:8080/",
          "height": 357
        },
        "outputId": "b7e83b4c-5ff1-44f6-f5dd-293dc1af196a"
      },
      "source": [
        "y=x.reshape(20,1)\n",
        "print(y)"
      ],
      "execution_count": 32,
      "outputs": [
        {
          "output_type": "stream",
          "text": [
            "[[0.5673002 ]\n",
            " [0.88033618]\n",
            " [0.56580192]\n",
            " [0.65737114]\n",
            " [0.22741317]\n",
            " [0.78165189]\n",
            " [0.51891697]\n",
            " [0.71974108]\n",
            " [0.01304877]\n",
            " [0.93647854]\n",
            " [0.64330095]\n",
            " [0.84580654]\n",
            " [0.97431145]\n",
            " [0.10885092]\n",
            " [0.66893755]\n",
            " [0.59204696]\n",
            " [0.16590474]\n",
            " [0.57452359]\n",
            " [0.33022795]\n",
            " [0.23253637]]\n"
          ],
          "name": "stdout"
        }
      ]
    },
    {
      "cell_type": "code",
      "metadata": {
        "id": "OASJIY_LV78t",
        "colab_type": "code",
        "colab": {
          "base_uri": "https://localhost:8080/",
          "height": 34
        },
        "outputId": "51dbd5dc-24e9-4fd0-e3f1-0541683797d1"
      },
      "source": [
        "a=np.arange(5)\n",
        "print(a)"
      ],
      "execution_count": 33,
      "outputs": [
        {
          "output_type": "stream",
          "text": [
            "[0 1 2 3 4]\n"
          ],
          "name": "stdout"
        }
      ]
    },
    {
      "cell_type": "code",
      "metadata": {
        "id": "uo83acXaWFFs",
        "colab_type": "code",
        "colab": {}
      },
      "source": [
        "b=np.arange(5)\n",
        "c=a+b\n",
        "d=a-b\n",
        "e=a*b"
      ],
      "execution_count": 0,
      "outputs": []
    },
    {
      "cell_type": "code",
      "metadata": {
        "id": "KuLuXMwlWdsg",
        "colab_type": "code",
        "colab": {
          "base_uri": "https://localhost:8080/",
          "height": 34
        },
        "outputId": "651bbede-3ca7-4d3c-a451-27d79cdca774"
      },
      "source": [
        "print(c,d,e)"
      ],
      "execution_count": 39,
      "outputs": [
        {
          "output_type": "stream",
          "text": [
            "[0 2 4 6 8] [0 0 0 0 0] [ 0  1  4  9 16]\n"
          ],
          "name": "stdout"
        }
      ]
    },
    {
      "cell_type": "code",
      "metadata": {
        "id": "cs-YqnnLW4dE",
        "colab_type": "code",
        "colab": {
          "base_uri": "https://localhost:8080/",
          "height": 34
        },
        "outputId": "ec44406f-697b-472c-d5c6-2994bcb0935c"
      },
      "source": [
        "#Needs to Understand the concept of Broadcasting In Python\n",
        "#In this \"a\" is vector and 1 is scaler\n",
        "\n",
        "print(a,a+1)"
      ],
      "execution_count": 40,
      "outputs": [
        {
          "output_type": "stream",
          "text": [
            "[0 1 2 3 4] [1 2 3 4 5]\n"
          ],
          "name": "stdout"
        }
      ]
    },
    {
      "cell_type": "code",
      "metadata": {
        "id": "2fwPJriOXs06",
        "colab_type": "code",
        "colab": {
          "base_uri": "https://localhost:8080/",
          "height": 85
        },
        "outputId": "3cc09d3d-2454-4ae6-b2bd-ddfe44e34bee"
      },
      "source": [
        "a=np.random.random((2,3))\n",
        "print(a)\n",
        "print(a+1)"
      ],
      "execution_count": 43,
      "outputs": [
        {
          "output_type": "stream",
          "text": [
            "[[0.25105925 0.17096459 0.77404649]\n",
            " [0.82110755 0.59292998 0.41276804]]\n",
            "[[1.25105925 1.17096459 1.77404649]\n",
            " [1.82110755 1.59292998 1.41276804]]\n"
          ],
          "name": "stdout"
        }
      ]
    },
    {
      "cell_type": "code",
      "metadata": {
        "id": "CyWcCbypYBGB",
        "colab_type": "code",
        "colab": {
          "base_uri": "https://localhost:8080/",
          "height": 51
        },
        "outputId": "c8511eaf-61bd-489b-d43b-f16badc954ff"
      },
      "source": [
        "#If we wnats to remove the decimal places\n",
        "\n",
        "a=np.floor(np.random.random((2,3))*15)\n",
        "print(a)"
      ],
      "execution_count": 47,
      "outputs": [
        {
          "output_type": "stream",
          "text": [
            "[[12.  8.  0.]\n",
            " [ 5. 12.  1.]]\n"
          ],
          "name": "stdout"
        }
      ]
    },
    {
      "cell_type": "code",
      "metadata": {
        "id": "x6GxtqNjYh0r",
        "colab_type": "code",
        "colab": {
          "base_uri": "https://localhost:8080/",
          "height": 34
        },
        "outputId": "f370f660-e027-453d-c57d-6ef3c5b7354c"
      },
      "source": [
        "u=[1,2,3]  #Vector\n",
        "v=[-1,0,1]\n",
        "\n",
        "#Inner Product\n",
        "p1=np.inner(u,v)\n",
        "print(p1)"
      ],
      "execution_count": 49,
      "outputs": [
        {
          "output_type": "stream",
          "text": [
            "2\n"
          ],
          "name": "stdout"
        }
      ]
    },
    {
      "cell_type": "code",
      "metadata": {
        "id": "XXhleD6IZOQF",
        "colab_type": "code",
        "colab": {
          "base_uri": "https://localhost:8080/",
          "height": 68
        },
        "outputId": "32709bb7-afd3-4f4f-9e3d-d5e58e6c772c"
      },
      "source": [
        "p2=np.outer(u,v)\n",
        "print(p2)"
      ],
      "execution_count": 50,
      "outputs": [
        {
          "output_type": "stream",
          "text": [
            "[[-1  0  1]\n",
            " [-2  0  2]\n",
            " [-3  0  3]]\n"
          ],
          "name": "stdout"
        }
      ]
    },
    {
      "cell_type": "code",
      "metadata": {
        "id": "A5kNjpt9ZdoE",
        "colab_type": "code",
        "colab": {
          "base_uri": "https://localhost:8080/",
          "height": 51
        },
        "outputId": "8d70f83b-467f-4780-bbfe-48546847fd0c"
      },
      "source": [
        "#Dot Product\n",
        "a=np.ones((2,3))\n",
        "b=np.ones((3,2))\n",
        "np.dot(a,b)"
      ],
      "execution_count": 51,
      "outputs": [
        {
          "output_type": "execute_result",
          "data": {
            "text/plain": [
              "array([[3., 3.],\n",
              "       [3., 3.]])"
            ]
          },
          "metadata": {
            "tags": []
          },
          "execution_count": 51
        }
      ]
    },
    {
      "cell_type": "code",
      "metadata": {
        "id": "wgxuUmnGZuSd",
        "colab_type": "code",
        "colab": {
          "base_uri": "https://localhost:8080/",
          "height": 51
        },
        "outputId": "664a1e07-b848-464b-93df-b0c1c9800d7e"
      },
      "source": [
        "#Dot product of transpose of dot a and b\n",
        "\n",
        "np.dot(b.T,a.T)"
      ],
      "execution_count": 52,
      "outputs": [
        {
          "output_type": "execute_result",
          "data": {
            "text/plain": [
              "array([[3., 3.],\n",
              "       [3., 3.]])"
            ]
          },
          "metadata": {
            "tags": []
          },
          "execution_count": 52
        }
      ]
    },
    {
      "cell_type": "code",
      "metadata": {
        "id": "LBk29WI1bUl1",
        "colab_type": "code",
        "colab": {
          "base_uri": "https://localhost:8080/",
          "height": 51
        },
        "outputId": "531cec20-284c-4544-f52a-60a2e3d8c12d"
      },
      "source": [
        "j=np.ones((2,3))\n",
        "print(j)"
      ],
      "execution_count": 54,
      "outputs": [
        {
          "output_type": "stream",
          "text": [
            "[[1. 1. 1.]\n",
            " [1. 1. 1.]]\n"
          ],
          "name": "stdout"
        }
      ]
    },
    {
      "cell_type": "code",
      "metadata": {
        "id": "GYhT-LGKbgj9",
        "colab_type": "code",
        "colab": {
          "base_uri": "https://localhost:8080/",
          "height": 34
        },
        "outputId": "8557b55c-2490-49f6-ee80-ce920e57cec5"
      },
      "source": [
        "#To find sum of whole matrix\n",
        "\n",
        "j.sum()"
      ],
      "execution_count": 55,
      "outputs": [
        {
          "output_type": "execute_result",
          "data": {
            "text/plain": [
              "6.0"
            ]
          },
          "metadata": {
            "tags": []
          },
          "execution_count": 55
        }
      ]
    },
    {
      "cell_type": "code",
      "metadata": {
        "id": "T4bpsMVfbqCU",
        "colab_type": "code",
        "colab": {
          "base_uri": "https://localhost:8080/",
          "height": 34
        },
        "outputId": "cedfd038-0f24-453c-b497-8bcf53eb1a2b"
      },
      "source": [
        "#to find sum of columns only\n",
        "\n",
        "j.sum(axis=0)   #Here 0 means column"
      ],
      "execution_count": 56,
      "outputs": [
        {
          "output_type": "execute_result",
          "data": {
            "text/plain": [
              "array([2., 2., 2.])"
            ]
          },
          "metadata": {
            "tags": []
          },
          "execution_count": 56
        }
      ]
    },
    {
      "cell_type": "code",
      "metadata": {
        "id": "AJ0bilj2b7sL",
        "colab_type": "code",
        "colab": {
          "base_uri": "https://localhost:8080/",
          "height": 34
        },
        "outputId": "2c22c1ea-54e6-445b-b657-005b0db5a85a"
      },
      "source": [
        "#to find sum of rows only\n",
        "\n",
        "j.sum(axis=1)   #Here 1 means row"
      ],
      "execution_count": 57,
      "outputs": [
        {
          "output_type": "execute_result",
          "data": {
            "text/plain": [
              "array([3., 3.])"
            ]
          },
          "metadata": {
            "tags": []
          },
          "execution_count": 57
        }
      ]
    },
    {
      "cell_type": "code",
      "metadata": {
        "id": "ztzsvQwQcNyB",
        "colab_type": "code",
        "colab": {
          "base_uri": "https://localhost:8080/",
          "height": 34
        },
        "outputId": "9ec906ba-a164-43e3-8b86-b3fdf6fd7272"
      },
      "source": [
        "#To find maximum value of a matrix\n",
        "\n",
        "j.max()"
      ],
      "execution_count": 58,
      "outputs": [
        {
          "output_type": "execute_result",
          "data": {
            "text/plain": [
              "1.0"
            ]
          },
          "metadata": {
            "tags": []
          },
          "execution_count": 58
        }
      ]
    }
  ]
}